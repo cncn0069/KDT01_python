{
 "cells": [
  {
   "cell_type": "markdown",
   "id": "b07db930",
   "metadata": {},
   "source": [
    "# 🧠 머신러닝/딥러닝을 위한 파이썬 클래스 실습\n"
   ]
  },
  {
   "cell_type": "markdown",
   "id": "f1a3990e",
   "metadata": {},
   "source": [
    "이 노트북은 머신러닝/딥러닝 개발을 위해 꼭 필요한 **파이썬 클래스 코딩 역량**을 훈련하기 위한 실습입니다.  \n",
    "단계별로 초급 → 중급 → 고급으로 클래스 설계를 연습하고, 실제 ML 전처리/모델 객체 설계 스타일도 접하게 됩니다.\n"
   ]
  },
  {
   "cell_type": "markdown",
   "id": "bee87b38",
   "metadata": {},
   "source": [
    "## ✅ STEP 1: 초급 - 기본 클래스 정의\n",
    "\n",
    "### 🎯 목표\n",
    "- 생성자 정의\n",
    "- 속성 저장\n",
    "- 평균 계산 및 출력 메서드\n",
    "\n",
    "### 📌 실습 과제\n",
    "\n",
    "1. 아래 요구사항을 충족하는 `Student` 클래스를 정의하세요.\n",
    "2. `홍길동` 객체를 생성하여 평균 점수를 출력하세요.\n",
    "\n",
    "```python\n",
    "# 요구사항\n",
    "# - name (이름)\n",
    "# - age (나이)\n",
    "# - scores (과목 점수 리스트)\n",
    "# - 평균 계산 함수 average()\n",
    "# - 정보 출력 함수 show()\n",
    "```\n"
   ]
  },
  {
   "cell_type": "code",
   "execution_count": null,
   "id": "1327f305",
   "metadata": {},
   "outputs": [],
   "source": [
    "class Student:\n",
    "    def __init__(self, name, age, scores):\n",
    "        self.name = name\n",
    "        self.age = age\n",
    "        self.scores = scores\n",
    "\n",
    "    def average(self):\n",
    "        return sum(self.scores) / len(self.scores)\n",
    "\n",
    "    def show(self):\n",
    "        print(f\"{self.name}의 평균 점수는 {self.average():.1f}점입니다.\")\n",
    "\n",
    "# 테스트\n",
    "s1 = Student(\"홍길동\", 20, [85, 90, 78])\n",
    "s1.show()\n"
   ]
  },
  {
   "cell_type": "markdown",
   "id": "a503e8da",
   "metadata": {},
   "source": [
    "## ✅ STEP 2: 중급 - 데이터셋 클래스를 설계하고 샘플을 저장하기\n",
    "\n",
    "### 🎯 목표\n",
    "- 여러 샘플을 저장\n",
    "- 샘플 요약 통계 계산\n",
    "- 학습/테스트 데이터 분리 기능 구현\n"
   ]
  },
  {
   "cell_type": "code",
   "execution_count": null,
   "id": "96768bdd",
   "metadata": {},
   "outputs": [],
   "source": [
    "import random\n",
    "\n",
    "class Dataset:\n",
    "    def __init__(self):\n",
    "        self.data = []\n",
    "\n",
    "    def add(self, x, y):\n",
    "        self.data.append((x, y))\n",
    "\n",
    "    def summary(self):\n",
    "        total = len(self.data)\n",
    "        label_count = {}\n",
    "        for _, y in self.data:\n",
    "            label_count[y] = label_count.get(y, 0) + 1\n",
    "        print(f\"총 샘플 수: {total}\")\n",
    "        for label, count in label_count.items():\n",
    "            print(f\" - {label}: {count}개\")\n",
    "\n",
    "    def split(self, ratio=0.8):\n",
    "        random.shuffle(self.data)\n",
    "        n = int(len(self.data) * ratio)\n",
    "        return self.data[:n], self.data[n:]\n",
    "\n",
    "# 테스트\n",
    "ds = Dataset()\n",
    "for name, score, label in [\n",
    "    (\"홍길동\", 85, 1), (\"김유신\", 72, 1), (\"강감찬\", 40, 0), (\"유관순\", 90, 1)\n",
    "]:\n",
    "    ds.add((name, score), label)\n",
    "\n",
    "ds.summary()\n",
    "train, test = ds.split()\n",
    "print(\"Train:\", train)\n",
    "print(\"Test:\", test)\n"
   ]
  },
  {
   "cell_type": "markdown",
   "id": "25e37876",
   "metadata": {},
   "source": [
    "## ✅ STEP 3: 고급 - 모델 추상 클래스와 상속 구현\n",
    "\n",
    "### 🎯 목표\n",
    "- 추상 클래스 생성\n",
    "- 상속 후 메서드 오버라이딩\n",
    "\n"
   ]
  },
  {
   "cell_type": "code",
   "execution_count": null,
   "id": "c35cbe42",
   "metadata": {},
   "outputs": [],
   "source": [
    "class BaseModel:\n",
    "    def train(self, X, y):\n",
    "        raise NotImplementedError\n",
    "\n",
    "    def predict(self, X):\n",
    "        raise NotImplementedError\n",
    "\n",
    "class ConstantModel(BaseModel):\n",
    "    def __init__(self, constant):\n",
    "        self.constant = constant\n",
    "\n",
    "    def train(self, X, y):\n",
    "        pass\n",
    "\n",
    "    def predict(self, X):\n",
    "        return [self.constant] * len(X)\n",
    "\n",
    "# 테스트\n",
    "model = ConstantModel(constant=1)\n",
    "X_test = [10, 20, 30]\n",
    "print(\"예측 결과:\", model.predict(X_test))\n"
   ]
  },
  {
   "cell_type": "markdown",
   "id": "75dde1bb",
   "metadata": {},
   "source": [
    "## ✅ 보너스 - 전처리 도구 클래스를 작성해보자\n",
    "\n"
   ]
  },
  {
   "cell_type": "code",
   "execution_count": null,
   "id": "7ff68889",
   "metadata": {},
   "outputs": [],
   "source": [
    "class Preprocessor:\n",
    "    def normalize(self, data):\n",
    "        min_val = min(data)\n",
    "        max_val = max(data)\n",
    "        return [(x - min_val) / (max_val - min_val) for x in data]\n",
    "\n",
    "    def standardize(self, data):\n",
    "        import statistics\n",
    "        mean = statistics.mean(data)\n",
    "        std = statistics.stdev(data)\n",
    "        return [(x - mean) / std for x in data]\n",
    "\n",
    "# 테스트\n",
    "prep = Preprocessor()\n",
    "data = [10, 20, 30, 40, 50]\n",
    "print(\"정규화:\", prep.normalize(data))\n",
    "print(\"표준화:\", prep.standardize(data))\n"
   ]
  }
 ],
 "metadata": {},
 "nbformat": 4,
 "nbformat_minor": 5
}