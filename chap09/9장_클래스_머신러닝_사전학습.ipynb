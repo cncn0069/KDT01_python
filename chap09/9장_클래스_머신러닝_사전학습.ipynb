{
 "cells": [
  {
   "cell_type": "markdown",
   "id": "8e8d1908",
   "metadata": {},
   "source": [
    "# 🧠 머신러닝 함수 구현 실습: train_test_split, accuracy, one_hot_encode\n"
   ]
  },
  {
   "cell_type": "markdown",
   "id": "005ca178",
   "metadata": {},
   "source": [
    "머신러닝 실습에서 자주 사용되는 유틸리티 함수들을 **직접 구현해보는 실습**\n",
    "\n",
    "총 3개의 함수 작성 훈련을 통해 데이터 분할, 평가, 인코딩 기초를 다지기.\n"
   ]
  },
  {
   "cell_type": "markdown",
   "id": "b11f3266",
   "metadata": {},
   "source": [
    "## 📦 실습용 데이터\n",
    "\n",
    "```python\n",
    "# 입력 데이터 (이름, 점수, 레이블)\n",
    "data = [\n",
    "    (\"홍길동\", 85, 1),\n",
    "    (\"김유신\", 72, 1),\n",
    "    (\"이순신\", 60, 1),\n",
    "    (\"강감찬\", 45, 0),\n",
    "    (\"유관순\", 92, 1),\n",
    "    (\"안중근\", 55, 0),\n",
    "    (\"윤봉길\", 78, 1),\n",
    "    (\"신사임당\", 33, 0),\n",
    "    (\"장보고\", 67, 1),\n",
    "    (\"이황\", 49, 0)\n",
    "]\n",
    "\n",
    "labels = [1, 1, 1, 0, 1, 0, 1, 0, 1, 0]\n",
    "```\n"
   ]
  },
  {
   "cell_type": "code",
   "execution_count": null,
   "id": "ade4a954",
   "metadata": {},
   "outputs": [],
   "source": [
    "data = [\n",
    "    (\"홍길동\", 85, 1),\n",
    "    (\"김유신\", 72, 1),\n",
    "    (\"이순신\", 60, 1),\n",
    "    (\"강감찬\", 45, 0),\n",
    "    (\"유관순\", 92, 1),\n",
    "    (\"안중근\", 55, 0),\n",
    "    (\"윤봉길\", 78, 1),\n",
    "    (\"신사임당\", 33, 0),\n",
    "    (\"장보고\", 67, 1),\n",
    "    (\"이황\", 49, 0)\n",
    "]\n",
    "\n",
    "labels = [1, 1, 1, 0, 1, 0, 1, 0, 1, 0]\n"
   ]
  },
  {
   "cell_type": "markdown",
   "id": "d410c5dd",
   "metadata": {},
   "source": [
    "## ✅ 실습 1: train_test_split 함수 구현\n",
    "\n",
    "데이터를 주어진 비율로 섞어서 학습/테스트 데이터로 나누는 함수를 작성하기.\n"
   ]
  },
  {
   "cell_type": "code",
   "execution_count": null,
   "id": "fda77194",
   "metadata": {},
   "outputs": [],
   "source": [
    "import random\n",
    "\n",
    "def train_test_split(data, ratio=0.8):\n",
    "    shuffled = data[:]\n",
    "    random.shuffle(shuffled)\n",
    "    n = int(len(shuffled) * ratio)\n",
    "    return shuffled[:n], shuffled[n:]\n",
    "\n",
    "# 테스트\n",
    "train, test = train_test_split(data, ratio=0.8)\n",
    "print(\"Train set:\", train)\n",
    "print(\"Test set:\", test)\n"
   ]
  },
  {
   "cell_type": "markdown",
   "id": "7fd4a34f",
   "metadata": {},
   "source": [
    "## ✅ 실습 2: accuracy 함수 구현\n",
    "\n",
    "예측값과 실제값이 주어졌을 때 정확도를 계산하는 함수를 구현하기.\n"
   ]
  },
  {
   "cell_type": "code",
   "execution_count": null,
   "id": "7b9c123c",
   "metadata": {},
   "outputs": [],
   "source": [
    "def accuracy(y_true, y_pred):\n",
    "    correct = sum([1 for yt, yp in zip(y_true, y_pred) if yt == yp])\n",
    "    return correct / len(y_true) * 100\n",
    "\n",
    "# 테스트\n",
    "y_true = [1, 0, 1, 1, 0]\n",
    "y_pred = [1, 0, 0, 1, 1]\n",
    "print(\"정확도:\", accuracy(y_true, y_pred))\n"
   ]
  },
  {
   "cell_type": "markdown",
   "id": "f338a158",
   "metadata": {},
   "source": [
    "## ✅ 실습 3: one_hot_encode 함수 구현\n",
    "\n",
    "레이블 리스트를 받아 원-핫 인코딩된 2차원 리스트를 반환하는 함수를 구현하기.\n"
   ]
  },
  {
   "cell_type": "code",
   "execution_count": null,
   "id": "8374d866",
   "metadata": {},
   "outputs": [],
   "source": [
    "def one_hot_encode(labels):\n",
    "    num_classes = max(labels) + 1\n",
    "    return [[1 if i == label else 0 for i in range(num_classes)] for label in labels]\n",
    "\n",
    "# 테스트\n",
    "labels = [0, 1, 2, 0, 1]\n",
    "print(\"원-핫 인코딩 결과:\")\n",
    "for row in one_hot_encode(labels):\n",
    "    print(row)\n"
   ]
  }
 ],
 "metadata": {
  "language_info": {
   "name": "python"
  }
 },
 "nbformat": 4,
 "nbformat_minor": 5
}
