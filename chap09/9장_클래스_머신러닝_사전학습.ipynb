{
 "cells": [
  {
   "cell_type": "markdown",
   "id": "8e8d1908",
   "metadata": {},
   "source": [
    "# 🧠 머신러닝 함수 구현 실습: train_test_split, accuracy, one_hot_encode\n"
   ]
  },
  {
   "cell_type": "markdown",
   "id": "005ca178",
   "metadata": {},
   "source": [
    "머신러닝 실습에서 자주 사용되는 유틸리티 함수들을 **직접 구현해보는 실습**\n",
    "\n",
    "\n",
    "총 3개의 함수 작성 훈련을 통해 데이터 분할, 평가, 인코딩 기초를 다지기.\n",
    "## 아래 코드를 설명하는 것이 필요 \n"
   ]
  },
  {
   "cell_type": "markdown",
   "id": "b11f3266",
   "metadata": {},
   "source": [
    "## 📦 실습용 데이터\n",
    "\n",
    "```python\n",
    "# 입력 데이터 (이름, 점수, 레이블)\n",
    "data = [\n",
    "    (\"홍길동\", 85, 1),\n",
    "    (\"김유신\", 72, 1),\n",
    "    (\"이순신\", 60, 1),\n",
    "    (\"강감찬\", 45, 0),\n",
    "    (\"유관순\", 92, 1),\n",
    "    (\"안중근\", 55, 0),\n",
    "    (\"윤봉길\", 78, 1),\n",
    "    (\"신사임당\", 33, 0),\n",
    "    (\"장보고\", 67, 1),\n",
    "    (\"이황\", 49, 0)\n",
    "]\n",
    "\n",
    "labels = [1, 1, 1, 0, 1, 0, 1, 0, 1, 0] # 통과 불합격 판별 \n",
    "```\n"
   ]
  },
  {
   "cell_type": "code",
   "execution_count": 1,
   "id": "ade4a954",
   "metadata": {},
   "outputs": [],
   "source": [
    "data = [\n",
    "    (\"홍길동\", 85, 1),\n",
    "    (\"김유신\", 72, 1),\n",
    "    (\"이순신\", 60, 1),\n",
    "    (\"강감찬\", 45, 0),\n",
    "    (\"유관순\", 92, 1),\n",
    "    (\"안중근\", 55, 0),\n",
    "    (\"윤봉길\", 78, 1),\n",
    "    (\"신사임당\", 33, 0),\n",
    "    (\"장보고\", 67, 1),\n",
    "    (\"이황\", 49, 0)\n",
    "]\n",
    "\n",
    "labels = [1, 1, 1, 0, 1, 0, 1, 0, 1, 0]\n"
   ]
  },
  {
   "cell_type": "markdown",
   "id": "d410c5dd",
   "metadata": {},
   "source": [
    "## ✅ 실습 1: train_test_split 함수 구현\n",
    "\n",
    "데이터를 주어진 비율로 섞어서 학습/테스트 데이터로 나누는 함수를 작성하기.\n"
   ]
  },
  {
   "cell_type": "code",
   "execution_count": 2,
   "id": "fda77194",
   "metadata": {},
   "outputs": [
    {
     "name": "stdout",
     "output_type": "stream",
     "text": [
      "Train set: [('김유신', 72, 1), ('이순신', 60, 1), ('윤봉길', 78, 1), ('안중근', 55, 0), ('유관순', 92, 1), ('이황', 49, 0), ('신사임당', 33, 0), ('홍길동', 85, 1)]\n",
      "Test set: [('강감찬', 45, 0), ('장보고', 67, 1)]\n"
     ]
    }
   ],
   "source": [
    "import random\n",
    "\n",
    "def train_test_split(data, ratio=0.8):\n",
    "    shuffled = data[:]\n",
    "    random.shuffle(shuffled)\n",
    "    n = int(len(shuffled) * ratio)\n",
    "    return shuffled[:n], shuffled[n:]\n",
    "\n",
    "# 테스트\n",
    "train, test = train_test_split(data, ratio=0.8)\n",
    "print(\"Train set:\", train)\n",
    "print(\"Test set:\", test)\n"
   ]
  },
  {
   "cell_type": "markdown",
   "id": "7fd4a34f",
   "metadata": {},
   "source": [
    "## ✅ 실습 2: accuracy 함수 구현\n",
    "\n",
    "예측값과 실제값이 주어졌을 때 정확도를 계산하는 함수를 구현하기.\n"
   ]
  },
  {
   "cell_type": "code",
   "execution_count": null,
   "id": "7b9c123c",
   "metadata": {},
   "outputs": [
    {
     "name": "stdout",
     "output_type": "stream",
     "text": [
      "정확도: 60.0\n"
     ]
    }
   ],
   "source": [
    "# 분류 모델의 정확도(accuracy) 계산 \n",
    "def accuracy(y_true, y_pred):\n",
    "    correct = sum([1 for yt, yp in zip(y_true, y_pred) if yt == yp])\n",
    "    return correct / len(y_true) * 100\n",
    "\n",
    "# 테스트\n",
    "y_true = [1, 0, 1, 1, 0]\n",
    "y_pred = [1, 0, 0, 1, 1]\n",
    "print(\"정확도:\", accuracy(y_true, y_pred))\n"
   ]
  },
  {
   "cell_type": "markdown",
   "id": "f338a158",
   "metadata": {},
   "source": [
    "## ✅ 실습 3: one_hot_encode 함수 구현\n",
    "\n",
    "레이블 리스트를 받아 원-핫 인코딩된 2차원 리스트를 반환하는 함수를 구현하기.\n"
   ]
  },
  {
   "cell_type": "code",
   "execution_count": null,
   "id": "8374d866",
   "metadata": {},
   "outputs": [
    {
     "name": "stdout",
     "output_type": "stream",
     "text": [
      "원-핫 인코딩 결과:\n",
      "[1, 0, 0]\n",
      "[0, 1, 0]\n",
      "[0, 0, 1]\n",
      "[1, 0, 0]\n",
      "[0, 1, 0]\n"
     ]
    }
   ],
   "source": [
    "def one_hot_encode(labels):\n",
    "    num_classes = max(labels) + 1\n",
    "    return [[1 if i == label else 0 for i in range(num_classes)] for label in labels] # 동작 이해 필요>설명할 수 있어야 한다 \n",
    "\n",
    "# 테스트\n",
    "labels = [0, 1, 2, 0, 1]\n",
    "print(\"원-핫 인코딩 결과:\")\n",
    "for row in one_hot_encode(labels):\n",
    "    print(row)\n"
   ]
  },
  {
   "cell_type": "markdown",
   "id": "08224c2b",
   "metadata": {},
   "source": [
    "파이썬에서 __call__() 메서드를 오버라이드하면 객체를 함수처럼 호출\n",
    "\n",
    "이를 이용하면 model(input)처럼 썼을 때 자동으로 forward() 메서드가 호출\n",
    "\n",
    "✅ __call__()로 forward() 자동 호출 예제"
   ]
  },
  {
   "cell_type": "code",
   "execution_count": 5,
   "id": "fce1c293",
   "metadata": {},
   "outputs": [],
   "source": [
    "class BaseModel:\n",
    "    def __call__(self, X):\n",
    "        return self.forward(X)\n",
    "    \n",
    "    def forward(self, X):\n",
    "        raise NotImplementedError(\"forward() must be implemented in subclass\")\n",
    "\n",
    "\n",
    "class MyModel(BaseModel):\n",
    "    def forward(self, X):\n",
    "        return [x * 2 for x in X]\n"
   ]
  },
  {
   "cell_type": "code",
   "execution_count": 6,
   "id": "61e6297c",
   "metadata": {},
   "outputs": [
    {
     "name": "stdout",
     "output_type": "stream",
     "text": [
      "[2, 4, 6]\n"
     ]
    }
   ],
   "source": [
    "model = MyModel()\n",
    "\n",
    "input_data = [1, 2, 3]\n",
    "output = model(input_data)  # __call__() → forward() 자동 호출\n",
    "\n",
    "print(output)  # [2, 4, 6]\n"
   ]
  },
  {
   "cell_type": "markdown",
   "id": "1647494a",
   "metadata": {},
   "source": [
    "✅ 핵심 흐름\n",
    "\n",
    "model(input_data) 호출\n",
    "\n",
    "→ __call__(self, X) 실행\n",
    "\n",
    "→ 내부에서 self.forward(X) 호출\n",
    "\n",
    "→ 자식 클래스가 정의한 forward()가 동작\n"
   ]
  },
  {
   "cell_type": "markdown",
   "id": "f57f554e",
   "metadata": {},
   "source": [
    "이 방식은 딥러닝 프레임워크(PyTorch) 스타일과 유사\n"
   ]
  },
  {
   "cell_type": "code",
   "execution_count": 12,
   "id": "0a8b889f",
   "metadata": {},
   "outputs": [
    {
     "name": "stdout",
     "output_type": "stream",
     "text": [
      "Package                 Version\n",
      "----------------------- ------------\n",
      "absl-py                 0.15.0\n",
      "asttokens               3.0.0\n",
      "astunparse              1.6.3\n",
      "clang                   5.0\n",
      "colorama                0.4.6\n",
      "comm                    0.2.2\n",
      "contourpy               1.3.0\n",
      "cycler                  0.12.1\n",
      "debugpy                 1.8.13\n",
      "decorator               5.2.1\n",
      "exceptiongroup          1.2.2\n",
      "executing               2.2.0\n",
      "filelock                3.18.0\n",
      "flatbuffers             1.12\n",
      "fonttools               4.57.0\n",
      "fsspec                  2025.3.2\n",
      "gast                    0.4.0\n",
      "google-pasta            0.2.0\n",
      "grpcio                  1.71.0\n",
      "h5py                    3.1.0\n",
      "importlib_metadata      8.6.1\n",
      "importlib_resources     6.5.2\n",
      "ipykernel               6.29.5\n",
      "ipython                 8.18.1\n",
      "jedi                    0.19.2\n",
      "Jinja2                  3.1.6\n",
      "jupyter_client          8.6.3\n",
      "jupyter_core            5.7.2\n",
      "keras                   2.15.0\n",
      "Keras-Preprocessing     1.1.2\n",
      "kiwisolver              1.4.7\n",
      "Markdown                3.8\n",
      "MarkupSafe              3.0.2\n",
      "matplotlib              3.9.4\n",
      "matplotlib-inline       0.1.7\n",
      "mpmath                  1.3.0\n",
      "nest-asyncio            1.6.0\n",
      "networkx                3.2.1\n",
      "numpy                   2.0.2\n",
      "opt-einsum              3.3.0\n",
      "packaging               24.2\n",
      "parso                   0.8.4\n",
      "pillow                  11.0.0\n",
      "pip                     25.0.1\n",
      "platformdirs            4.3.7\n",
      "prompt_toolkit          3.0.50\n",
      "protobuf                3.20.0\n",
      "psutil                  7.0.0\n",
      "pure_eval               0.2.3\n",
      "Pygments                2.19.1\n",
      "pyparsing               3.2.3\n",
      "python-dateutil         2.9.0.post0\n",
      "pywin32                 310\n",
      "pyzmq                   26.4.0\n",
      "setuptools              58.1.0\n",
      "six                     1.15.0\n",
      "stack-data              0.6.3\n",
      "sympy                   1.13.1\n",
      "tensorboard             2.19.0\n",
      "tensorboard-data-server 0.7.2\n",
      "tensorflow-estimator    2.15.0\n",
      "tensorflow-gpu          2.6.0\n",
      "termcolor               1.1.0\n",
      "torch                   2.6.0+cu126\n",
      "torchaudio              2.6.0+cu126\n",
      "torchvision             0.21.0+cu126\n",
      "tornado                 6.4.2\n",
      "traitlets               5.14.3\n",
      "typing_extensions       4.13.2\n",
      "wcwidth                 0.2.13\n",
      "Werkzeug                3.1.3\n",
      "wheel                   0.45.1\n",
      "wrapt                   1.12.1\n",
      "zipp                    3.21.0\n",
      "Note: you may need to restart the kernel to use updated packages.\n"
     ]
    }
   ],
   "source": [
    "pip list typing_extensions"
   ]
  },
  {
   "cell_type": "code",
   "execution_count": 9,
   "id": "0c3579a5",
   "metadata": {},
   "outputs": [
    {
     "ename": "ImportError",
     "evalue": "cannot import name 'ParamSpec' from 'typing_extensions' (c:\\CODE\\Python\\.venv\\lib\\site-packages\\typing_extensions.py)",
     "output_type": "error",
     "traceback": [
      "\u001b[1;31m---------------------------------------------------------------------------\u001b[0m",
      "\u001b[1;31mImportError\u001b[0m                               Traceback (most recent call last)",
      "Cell \u001b[1;32mIn[9], line 1\u001b[0m\n\u001b[1;32m----> 1\u001b[0m \u001b[38;5;28;01mimport\u001b[39;00m\u001b[38;5;250m \u001b[39m\u001b[38;5;21;01mtorch\u001b[39;00m\u001b[38;5;21;01m.\u001b[39;00m\u001b[38;5;21;01mnn\u001b[39;00m\u001b[38;5;250m \u001b[39m\u001b[38;5;28;01mas\u001b[39;00m\u001b[38;5;250m \u001b[39m\u001b[38;5;21;01mnn\u001b[39;00m \u001b[38;5;66;03m# torch.nn 모듈은 신경망 레이어, 모델 구조, 손실 함수 등을 담고 있는 PyTorch의 핵심 구성요소\u001b[39;00m\n\u001b[0;32m      3\u001b[0m \u001b[38;5;28;01mclass\u001b[39;00m\u001b[38;5;250m \u001b[39m\u001b[38;5;21;01mNet\u001b[39;00m(nn\u001b[38;5;241m.\u001b[39mModule): \u001b[38;5;66;03m#nn.Module을 상속받아 PyTorch 모델로 인식\u001b[39;00m\n\u001b[0;32m      4\u001b[0m     \u001b[38;5;28;01mdef\u001b[39;00m\u001b[38;5;250m \u001b[39m\u001b[38;5;21mforward\u001b[39m(\u001b[38;5;28mself\u001b[39m, x): \u001b[38;5;66;03m# forward() 메서드를 자동 연결해주는 __call__() 등이 내장\u001b[39;00m\n",
      "File \u001b[1;32mc:\\CODE\\Python\\.venv\\lib\\site-packages\\torch\\__init__.py:38\u001b[0m\n\u001b[0;32m     23\u001b[0m \u001b[38;5;28;01mimport\u001b[39;00m\u001b[38;5;250m \u001b[39m\u001b[38;5;21;01mthreading\u001b[39;00m\n\u001b[0;32m     24\u001b[0m \u001b[38;5;28;01mfrom\u001b[39;00m\u001b[38;5;250m \u001b[39m\u001b[38;5;21;01mtyping\u001b[39;00m\u001b[38;5;250m \u001b[39m\u001b[38;5;28;01mimport\u001b[39;00m (\n\u001b[0;32m     25\u001b[0m     Any \u001b[38;5;28;01mas\u001b[39;00m _Any,\n\u001b[0;32m     26\u001b[0m     Callable \u001b[38;5;28;01mas\u001b[39;00m _Callable,\n\u001b[1;32m   (...)\u001b[0m\n\u001b[0;32m     36\u001b[0m     Union \u001b[38;5;28;01mas\u001b[39;00m _Union,\n\u001b[0;32m     37\u001b[0m )\n\u001b[1;32m---> 38\u001b[0m \u001b[38;5;28;01mfrom\u001b[39;00m\u001b[38;5;250m \u001b[39m\u001b[38;5;21;01mtyping_extensions\u001b[39;00m\u001b[38;5;250m \u001b[39m\u001b[38;5;28;01mimport\u001b[39;00m ParamSpec \u001b[38;5;28;01mas\u001b[39;00m _ParamSpec\n\u001b[0;32m     41\u001b[0m \u001b[38;5;28;01mif\u001b[39;00m TYPE_CHECKING:\n\u001b[0;32m     42\u001b[0m     \u001b[38;5;28;01mfrom\u001b[39;00m\u001b[38;5;250m \u001b[39m\u001b[38;5;21;01m.\u001b[39;00m\u001b[38;5;21;01mtypes\u001b[39;00m\u001b[38;5;250m \u001b[39m\u001b[38;5;28;01mimport\u001b[39;00m IntLikeType\n",
      "\u001b[1;31mImportError\u001b[0m: cannot import name 'ParamSpec' from 'typing_extensions' (c:\\CODE\\Python\\.venv\\lib\\site-packages\\typing_extensions.py)"
     ]
    }
   ],
   "source": [
    "\n",
    "import torch.nn as nn # torch.nn 모듈은 신경망 레이어, 모델 구조, 손실 함수 등을 담고 있는 PyTorch의 핵심 구성요소\n",
    "\n",
    "class Net(nn.Module): #nn.Module을 상속받아 PyTorch 모델로 인식\n",
    "    def forward(self, x): # forward() 메서드를 자동 연결해주는 __call__() 등이 내장\n",
    "        return x + 1\n",
    "\n",
    "net = Net()\n",
    "print(net(torch.tensor(3)))  # __call__ → forward 자동 호출\n"
   ]
  },
  {
   "cell_type": "markdown",
   "id": "7b9139c1",
   "metadata": {},
   "source": [
    "net(torch.tensor(3))\n",
    "→ net.__call__(torch.tensor(3))\n",
    "→ net.forward(torch.tensor(3))\n",
    "→ return x + 1 → tensor(4)\n"
   ]
  },
  {
   "cell_type": "markdown",
   "id": "c9706bd2",
   "metadata": {},
   "source": [
    "✅ 모델의 순전파(forward propagation) 연산을 정의하는 함수\n",
    "\n",
    "\n",
    "PyTorch에서는 model(input)을 호출하면 __call__() → forward()로 연결\n",
    "\n",
    "\n",
    "여기서는 입력 x에 단순히 1을 더해서 반환\n"
   ]
  },
  {
   "cell_type": "markdown",
   "id": "4d665eb0",
   "metadata": {},
   "source": [
    "__call__()\t객체를 함수처럼 사용 가능하게 함\n",
    "\n",
    "forward()\t주 연산 로직 (직접 호출은 안 함)\n",
    "\n",
    "model(X)\t내부적으로 forward(X) 실행됨"
   ]
  },
  {
   "cell_type": "markdown",
   "id": "d1b46f42",
   "metadata": {},
   "source": [
    "PyTorch에서 신경망 모델(nn.Module)은 __call__()을 정의해 \n",
    "model(input)처럼 호출하면 내부적으로 forward()를 실행"
   ]
  },
  {
   "cell_type": "code",
   "execution_count": 9,
   "id": "041f6799",
   "metadata": {},
   "outputs": [
    {
     "name": "stdout",
     "output_type": "stream",
     "text": [
      "tensor(4)\n"
     ]
    }
   ],
   "source": [
    "import torch  # ⬅️ 반드시 필요!\n",
    "\n",
    "class Net:\n",
    "    def __call__(self, x):\n",
    "        return self.forward(x)\n",
    "\n",
    "    def forward(self, x):\n",
    "        return x + 1\n",
    "\n",
    "net = Net()\n",
    "print(net(torch.tensor(3)))  # ⬅️ __call__ → forward 자동 호출\n"
   ]
  }
 ],
 "metadata": {
  "kernelspec": {
   "display_name": ".venv",
   "language": "python",
   "name": "python3"
  },
  "language_info": {
   "codemirror_mode": {
    "name": "ipython",
    "version": 3
   },
   "file_extension": ".py",
   "mimetype": "text/x-python",
   "name": "python",
   "nbconvert_exporter": "python",
   "pygments_lexer": "ipython3",
   "version": "3.9.13"
  }
 },
 "nbformat": 4,
 "nbformat_minor": 5
}
