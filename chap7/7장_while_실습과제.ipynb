{
 "cells": [
  {
   "cell_type": "markdown",
   "id": "e2bc8362",
   "metadata": {},
   "source": [
    "리스트, 딕셔너리 + while문 실습 과제 추천\n",
    "각 과제는 난이도에 따라 학습자에게 문제 해결력과 반복 제어 능력을 키워줍니다.\n",
    "\n",
    "✅ 과제 1: 리스트 순차 출력 (기본)\n",
    "문제\n",
    "아래의 리스트를 while문을 이용해 하나씩 출력하세요.\n"
   ]
  },
  {
   "cell_type": "code",
   "execution_count": 1,
   "id": "64ce5b91",
   "metadata": {},
   "outputs": [
    {
     "name": "stdout",
     "output_type": "stream",
     "text": [
      "복숭아\n",
      "오렌지\n",
      "포도\n",
      "바나나\n",
      "사과\n"
     ]
    }
   ],
   "source": [
    "\n",
    "fruits = [\"사과\", \"바나나\", \"포도\", \"오렌지\", \"복숭아\"]\n",
    "while fruits:\n",
    "    print(fruits.pop())\n"
   ]
  },
  {
   "cell_type": "markdown",
   "id": "c28f3ee0",
   "metadata": {},
   "source": [
    "\n",
    "✅ 과제 2: 사용자 입력으로 리스트 채우기 (입력 실습)\n",
    "문제\n",
    "사용자에게 과일 이름을 입력받아 리스트에 저장하되, \"끝\"을 입력하면 입력을 종료하고 리스트를 출력하세요.\n",
    "\n",
    "# 예시 입력:\n",
    "# 사과 → 포도 → 끝 → 결과: ['사과', '포도']\n",
    "\n"
   ]
  },
  {
   "cell_type": "code",
   "execution_count": null,
   "id": "a67d61c2",
   "metadata": {},
   "outputs": [],
   "source": [
    "lst = []\n",
    "flag = True\n",
    "\n",
    "while flag:\n",
    "    input_value = input()\n",
    "    #입력은 항상 str 형으로 들어오기 때문에 input_value is int는 항상 false!!\n",
    "    if input_value.isdigit() :\n",
    "        \n",
    "        lst.append(input_value)\n",
    "    else:\n",
    "        if input_value == 'quit':\n",
    "            flag = False\n"
   ]
  },
  {
   "cell_type": "code",
   "execution_count": null,
   "id": "b1d6699b",
   "metadata": {},
   "outputs": [
    {
     "name": "stdout",
     "output_type": "stream",
     "text": [
      "['c', 'b']\n"
     ]
    }
   ],
   "source": [
    "\n",
    "lst = ['a','b','c']\n",
    "ls = []\n",
    "for i in lst:\n",
    "    ls.append(lst.pop())\n",
    "\n",
    "print(ls)\n",
    "#for 문을 쓰면 안되는 이유...!\n",
    "# c, b.. pop부분은 이렇게 제거중\n",
    "# for 문은 a, b , c 순서로 접근중인데 c가 없으므로 2번째를 마지막으로 for문 중단...\n",
    "\n"
   ]
  },
  {
   "cell_type": "markdown",
   "id": "0cc6b64b",
   "metadata": {},
   "source": [
    "\n",
    "✅ 과제 3: 딕셔너리 반복 조회 및 검색\n",
    "문제\n",
    "딕셔너리에 저장된 학생 이름과 점수에서 80점 이상인 학생 이름만 출력하세요.\n",
    "\n"
   ]
  },
  {
   "cell_type": "code",
   "execution_count": null,
   "id": "d988c34c",
   "metadata": {},
   "outputs": [
    {
     "name": "stdout",
     "output_type": "stream",
     "text": [
      "유관순\n",
      "\n",
      "이순신\n",
      "\n",
      "홍길동\n"
     ]
    }
   ],
   "source": [
    "scores = {\n",
    "    \"홍길동\": 85,\n",
    "    \"김유신\": 76,\n",
    "    \"이순신\": 90,\n",
    "    \"강감찬\": 55,\n",
    "    \"유관순\": 88\n",
    "}\n",
    "\n",
    "while scores:\n",
    "    k , v= scores.popitem()\n",
    "    print(k if v >=80 else \"\")"
   ]
  },
  {
   "cell_type": "markdown",
   "id": "3ef33593",
   "metadata": {},
   "source": [
    "\n",
    "✅ 과제 4: 퀴즈 게임 (딕셔너리 활용)\n",
    "문제\n",
    "단어 퀴즈 프로그램을 만들자. 사용자에게 뜻을 주고 단어를 맞히게 하세요. 총 3문제 출제 후 맞힌 개수를 출력하세요.\n",
    "\n",
    "python\n",
    "복사\n",
    "편집\n"
   ]
  },
  {
   "cell_type": "code",
   "execution_count": null,
   "id": "e99fae1e",
   "metadata": {},
   "outputs": [],
   "source": [
    "quiz = {\n",
    "    \"apple\": \"사과\",\n",
    "    \"banana\": \"바나나\",\n",
    "    \"grape\": \"포도\"\n",
    "}\n",
    "\n"
   ]
  },
  {
   "cell_type": "markdown",
   "id": "9dc82e0d",
   "metadata": {},
   "source": [
    "\n",
    "\n",
    "✅ 과제 5: 반복 입력 + 딕셔너리 저장\n",
    "문제\n",
    "사용자에게 이름과 나이를 입력받아 딕셔너리에 저장하세요. \"종료\"라고 입력하면 저장을 멈추고 전체를 출력하세요.\n",
    "\n",
    "# 예시:\n",
    "# 입력: 이름: 홍길동 / 나이: 21\n",
    "# 종료\n",
    "# 결과: {'홍길동': 21}\n",
    "\n",
    "🎁 과제6: 점수 등록 시스템\n",
    "\n",
    "# 사용자가 이름과 점수를 계속 입력하면 딕셔너리에 저장하고\n",
    "# 평균 점수와 최고 점수를 구해보는 과제\n",
    "\n",
    "# 저장 형식 예시: {'홍길동': 90, '김유신': 85, ...}\n"
   ]
  }
 ],
 "metadata": {
  "kernelspec": {
   "display_name": ".venv",
   "language": "python",
   "name": "python3"
  },
  "language_info": {
   "codemirror_mode": {
    "name": "ipython",
    "version": 3
   },
   "file_extension": ".py",
   "mimetype": "text/x-python",
   "name": "python",
   "nbconvert_exporter": "python",
   "pygments_lexer": "ipython3",
   "version": "3.9.13"
  }
 },
 "nbformat": 4,
 "nbformat_minor": 5
}
