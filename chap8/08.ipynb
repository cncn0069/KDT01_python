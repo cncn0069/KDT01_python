{
 "cells": [
  {
   "cell_type": "markdown",
   "id": "75d08e3e",
   "metadata": {},
   "source": [
    "✅ 머신러닝/딥러닝을 위한 실전형 함수 작성 훈련 과제\n",
    "핵심 요소: list comprehension, tuple, dictionary, enumerate(), zip() 집중 사용\n",
    "\n",
    "🧩 STEP 1. 리스트 처리 함수 (기초 + comprehension)\n",
    "📌 과제 1\n",
    "점수 리스트를 받아 70점 이상이면 '합격', 그렇지 않으면 '불합격'으로 분류된 문자열 리스트를 반환하세요.\n",
    "\n",
    "# 입력 예시: [85, 67, 90, 45]\n",
    "# 출력: ['합격', '불합격', '합격', '불합격']\n",
    "-------------------------------------------------\n",
    " v          v         답안          v       v\n",
    "-------------------------------------------------\n"
   ]
  },
  {
   "cell_type": "code",
   "execution_count": 1,
   "id": "6fb1a6c0",
   "metadata": {},
   "outputs": [
    {
     "name": "stdout",
     "output_type": "stream",
     "text": [
      "합격\n",
      "불합격\n",
      "합격\n",
      "불합격\n"
     ]
    }
   ],
   "source": [
    "lists = [85, 67, 90, 45]\n",
    "def grade(number):\n",
    "    return '합격' if number >= 70 else '불합격'\n",
    "\n",
    "for list in lists:\n",
    "    print(grade(list))"
   ]
  },
  {
   "cell_type": "markdown",
   "id": "e435c621",
   "metadata": {},
   "source": [
    "\n",
    "\n",
    "\n",
    "\n",
    "📌 과제 2\n",
    "이름 리스트를 받아 각 이름에 순번을 붙인 리스트를 반환하세요 (enumerate() 사용).\n",
    "\n",
    "# 출력 예시: ['1. 홍길동', '2. 김유신', ...]\n",
    "\n",
    "names = [\"홍길동\", \" 김유신 \", \"이순신\", \"강 감 찬\"]\n",
    "-------------------------------------------------\n",
    " v          v         답안          v       v\n",
    "-------------------------------------------------\n"
   ]
  },
  {
   "cell_type": "code",
   "execution_count": null,
   "id": "787e9273",
   "metadata": {},
   "outputs": [
    {
     "name": "stdout",
     "output_type": "stream",
     "text": [
      "[(1, '홍길동'), (2, ' 김유신 '), (3, '이순신'), (4, '강 감 찬')]\n"
     ]
    }
   ],
   "source": [
    "names = [\"홍길동\", \" 김유신 \", \"이순신\", \"강 감 찬\"]\n",
    "\n",
    "def index(lists):\n",
    "    #() 해줬어야 하고 for 뒤에 나눠서 받을 인자 만들어 줬어야하고고\n",
    "    return [ (i + 1 , j) for i , j in enumerate(lists)]\n",
    "    \n",
    "\n",
    "print(index(names))"
   ]
  },
  {
   "cell_type": "markdown",
   "id": "e24db124",
   "metadata": {},
   "source": [
    "\n",
    "\n",
    "\n",
    "\n",
    "🧩 STEP 2. 튜플 & zip() 처리 함수\n",
    "📌 과제 3\n",
    "이름, 점수 두 리스트를 받아 \"홍길동: 85점\"과 같은 문자열 리스트를 반환하세요 (zip() 사용).\n",
    "\n",
    "names = [\"홍길동\", \" 김유신 \", \"이순신\", \"강 감 찬\"]\n",
    "scores = [85, 70, 60, 90]\n",
    "-------------------------------------------------\n",
    " v          v         답안          v       v\n",
    "-------------------------------------------------\n",
    "\n"
   ]
  },
  {
   "cell_type": "code",
   "execution_count": 17,
   "id": "2bdc752b",
   "metadata": {},
   "outputs": [
    {
     "name": "stdout",
     "output_type": "stream",
     "text": [
      "['홍길동:85', ' 김유신 :70', '이순신:60', '강 감 찬:90']\n"
     ]
    }
   ],
   "source": [
    "names = [\"홍길동\", \" 김유신 \", \"이순신\", \"강 감 찬\"]\n",
    "scores = [85, 70, 60, 90]\n",
    "\n",
    "def merge(name, score):\n",
    "    return  [(a + ':' + str(b)) for a, b in zip(names,scores)]\n",
    "\n",
    "print(merge(names,scores))"
   ]
  },
  {
   "cell_type": "markdown",
   "id": "4f82f386",
   "metadata": {},
   "source": [
    "\n",
    "\n",
    "📌 과제 4\n",
    "(이름, 점수) 튜플 리스트에서 80점 이상인 사람만 필터링된 튜플 리스트를 반환하세요.\n",
    "\n",
    "names = [\"홍길동\", \" 김유신 \", \"이순신\", \"강 감 찬\"]\n",
    "scores = [85, 70, 60, 90]\n",
    "-------------------------------------------------\n",
    " v          v         답안          v       v\n",
    "-------------------------------------------------\n"
   ]
  },
  {
   "cell_type": "code",
   "execution_count": 19,
   "id": "bd7e612b",
   "metadata": {},
   "outputs": [
    {
     "name": "stdout",
     "output_type": "stream",
     "text": [
      "[('홍길동', 85), ('강 감 찬', 90)]\n"
     ]
    }
   ],
   "source": [
    "names = [\"홍길동\", \" 김유신 \", \"이순신\", \"강 감 찬\"]\n",
    "scores = [85, 70, 60, 90]\n",
    "\n",
    "def filter(names, scores):\n",
    "    return [(a , b) for a , b in zip(names,scores) if b >= 80]\n",
    "\n",
    "print(filter(names,scores))"
   ]
  },
  {
   "cell_type": "markdown",
   "id": "5f5fa6e2",
   "metadata": {},
   "source": [
    "\n",
    "\n",
    "🧩 STEP 3. 딕셔너리 생성/변환 함수\n",
    "📌 과제 5\n",
    "이름 리스트와 점수 리스트를 받아 딕셔너리로 변환하는 함수 (zip() 사용):\n",
    "\n",
    "names = [\"홍길동\", \" 김유신 \", \"이순신\", \"강 감 찬\"]\n",
    "scores = [85, 70, 60, 90]\n",
    "\n",
    "# 입력: [\"홍길동\", \"김유신\"], [85, 90]\n",
    "# 출력: {\"홍길동\": 85, \"김유신\": 90}\n",
    "-------------------------------------------------\n",
    " v          v         답안          v       v\n",
    "-------------------------------------------------\n",
    "\n"
   ]
  },
  {
   "cell_type": "code",
   "execution_count": 20,
   "id": "cff8d5fe",
   "metadata": {},
   "outputs": [
    {
     "name": "stdout",
     "output_type": "stream",
     "text": [
      "{'홍길동': 85, ' 김유신 ': 70, '이순신': 60, '강 감 찬': 90}\n"
     ]
    }
   ],
   "source": [
    "names = [\"홍길동\", \" 김유신 \", \"이순신\", \"강 감 찬\"]\n",
    "scores = [85, 70, 60, 90]\n",
    "\n",
    "def dic(names,scores):\n",
    "    return {a:b for a,b in zip(names,scores)}\n",
    "\n",
    "print (dic(names,scores))"
   ]
  },
  {
   "cell_type": "markdown",
   "id": "67bdad0a",
   "metadata": {},
   "source": [
    "\n",
    "\n",
    "📌 과제 6\n",
    "학생 점수 딕셔너리를 받아 합격자 이름만 리스트로 반환하세요 (cutoff 지정 가능).\n",
    "\n",
    "{'홍길동': 85, '김유신': 70, '이순신': 60, '강 감 찬': 90}\n",
    "-------------------------------------------------\n",
    " v          v         답안          v       v\n",
    "-------------------------------------------------\n"
   ]
  },
  {
   "cell_type": "code",
   "execution_count": 25,
   "id": "65e5cf9f",
   "metadata": {},
   "outputs": [
    {
     "name": "stdout",
     "output_type": "stream",
     "text": [
      "['홍길동', '김유신', '강 감 찬']\n"
     ]
    }
   ],
   "source": [
    "d = {'홍길동': 85, '김유신': 70, '이순신': 60, '강 감 찬': 90}\n",
    "\n",
    "def dic(d):\n",
    "    return [a for a,b in d.items() if b>=70]\n",
    "\n",
    "print (dic(d))"
   ]
  },
  {
   "cell_type": "markdown",
   "id": "2507982d",
   "metadata": {},
   "source": [
    "\n",
    "\n",
    "🧩 STEP 4. 분석 보고용 함수\n",
    "📌 과제 7\n",
    "이름, 과목, 점수 리스트를 받아 \"1. 홍길동 - 수학: 85점\"과 같은 리스트를 반환하세요 (enumerate(), zip() 함께 사용)\n",
    "\n",
    "names = [\"홍길동\", \" 김유신 \", \"이순신\", \"강 감 찬\"]\n",
    "scores = [85, 70, 60, 90]\n",
    "subjects = [\"수학\", \"영어\", \"과학\", \"국어\"]\n",
    "-------------------------------------------------\n",
    " v          v         답안          v       v\n",
    "-------------------------------------------------\n",
    "\n"
   ]
  },
  {
   "cell_type": "code",
   "execution_count": 40,
   "id": "a774c3d2",
   "metadata": {},
   "outputs": [
    {
     "name": "stdout",
     "output_type": "stream",
     "text": [
      "[(1, '홍길동 - 수학: 85'), (2, ' 김유신  - 영어: 70'), (3, '이순신 - 과학: 60'), (4, '강 감 찬 - 국어: 90')]\n"
     ]
    }
   ],
   "source": [
    "names = [\"홍길동\", \" 김유신 \", \"이순신\", \"강 감 찬\"]\n",
    "scores = [85, 70, 60, 90]\n",
    "subjects = [\"수학\", \"영어\", \"과학\", \"국어\"]\n",
    "\n",
    "def grade(names, scores, subjects):\n",
    "    return [((i + 1) ,j) for i, j in enumerate([(name + ' - ' + subject + ': ' + str(score)) for name,subject,score in zip(names,subjects,scores)])]\n",
    "\n",
    "print(grade(names,scores,subjects))"
   ]
  },
  {
   "cell_type": "markdown",
   "id": "85a99c39",
   "metadata": {},
   "source": [
    "\n",
    "\n",
    "🧩 STEP 5. 집계 및 정제 함수\n",
    "📌 과제 8\n",
    "문자열 리스트에서 공백 제거 + 소문자 변환 + 중복 제거된 정렬 리스트를 반환하세요.\n",
    "\n",
    "['HONG GIL DONG', 'HONG GIL DONG', 'KIM YU SIN', 'KIM YU SIN', 'LEE SUN SIN', 'LEE SUN SIN', 'KANG GAM CHAN', 'KANG GAM CHAN']\n",
    "-------------------------------------------------\n",
    " v          v         답안          v       v\n",
    "-------------------------------------------------\n",
    "\n"
   ]
  },
  {
   "cell_type": "code",
   "execution_count": 42,
   "id": "b1533684",
   "metadata": {},
   "outputs": [
    {
     "name": "stdout",
     "output_type": "stream",
     "text": [
      "{'kim yu sin', 'kang gam chan', 'hong gil dong', 'lee sun sin'}\n"
     ]
    }
   ],
   "source": [
    "names = ['HONG GIL DONG', 'HONG GIL DONG', 'KIM YU SIN', 'KIM YU SIN', 'LEE SUN SIN', 'LEE SUN SIN', 'KANG GAM CHAN', 'KANG GAM CHAN']\n",
    "def filter(names):\n",
    "    return set([value.strip().lower() for value in names])\n",
    "\n",
    "print(filter(names))"
   ]
  },
  {
   "cell_type": "markdown",
   "id": "534330b2",
   "metadata": {},
   "source": [
    "\n",
    "\n",
    "📌 과제 9\n",
    "다수의 (이름, 점수) 튜플 리스트를 받아, 평균 점수와 최고 점수 학생을 출력하세요.\n",
    "\n",
    "(('홍길동', 85), ('김유신', 70), ('이순신', 60), ('강 감 찬', 90))\n",
    "-------------------------------------------------\n",
    " v          v         답안          v       v\n",
    "-------------------------------------------------\n"
   ]
  },
  {
   "cell_type": "code",
   "execution_count": 45,
   "id": "6a5565d1",
   "metadata": {},
   "outputs": [
    {
     "name": "stdout",
     "output_type": "stream",
     "text": [
      "76.25 강 감 찬\n"
     ]
    }
   ],
   "source": [
    "tu = (('홍길동', 85), ('김유신', 70), ('이순신', 60), ('강 감 찬', 90))\n",
    "\n",
    "def avg_and_max(tu):\n",
    "    avg_and_max = 0\n",
    "    scores = []\n",
    "    temp = ()\n",
    "    max = 0\n",
    "    for key, value in tu:\n",
    "        scores.append(value)\n",
    "        if(value >= max):\n",
    "            temp = (key,value)\n",
    "\n",
    "\n",
    "    return sum(scores)/len(scores), temp\n",
    "\n",
    "avg, (name , score) = avg_and_max(tu)\n",
    "\n",
    "print(avg, name)"
   ]
  },
  {
   "cell_type": "markdown",
   "id": "66861a06",
   "metadata": {},
   "source": [
    "\n",
    "\n",
    "💎  STEP 6: 확장 과제 (실전형)\n",
    "📌 과제 10: 데이터 전처리 → 분석까지 전 과정 함수 분리 실습\n",
    "아래의 리스트를 기반으로 다음 작업을 각각의 함수로 분리하여 구현해보세요.\n",
    "\n",
    "names = [\"홍길동\", \" 김유신 \", \"이순신\", \"강 감 찬\"]\n",
    "scores = [85, 70, 60, 90]\n",
    "subjects = [\"수학\", \"영어\", \"과학\", \"국어\"]\n",
    "\n",
    "함수 분리 목표\n",
    "clean_names() → 이름에서 공백 제거 및 정리\n",
    "\n",
    "to_dict() → 이름과 점수 딕셔너리로 변환\n",
    "\n",
    "filter_pass() → 70점 이상인 학생만 필터링\n",
    "\n",
    "report() → \"1. 홍길동 - 수학: 85점\" 형태로 출력\n"
   ]
  },
  {
   "cell_type": "code",
   "execution_count": 11,
   "id": "74b61119",
   "metadata": {},
   "outputs": [
    {
     "name": "stdout",
     "output_type": "stream",
     "text": [
      "['1.홍길동 - 수학: 85점']\n"
     ]
    }
   ],
   "source": [
    "names = [\"홍길동\", \" 김유신 \", \"이순신\", \"강 감 찬\"]\n",
    "scores = [85, 70, 60, 90]\n",
    "subjects = [\"수학\", \"영어\", \"과학\", \"국어\"]\n",
    "\n",
    "\n",
    "def clean_names(names):\n",
    "    return [name.strip() for name in names]\n",
    "\n",
    "def to_dict(names, scores):\n",
    "    return {name:score for name,score in zip(names,scores)}\n",
    "\n",
    "def filter_pass(names, scores):\n",
    "    return [name for name,score in zip(names,scores) if score >= 70]\n",
    "\n",
    "def report(name, subjec, score):\n",
    "    return [(str(idx+1)+ '.' + value) for idx, value in enumerate([(na + ' - ' + sub + ': ' + str(sco) + '점') for na, sub, sco in zip(name, subjec,score)])]\n",
    "\n",
    "print(report([\"홍길동\"], [\"수학\"], [85]))\n"
   ]
  },
  {
   "cell_type": "markdown",
   "id": "5c08298f",
   "metadata": {},
   "source": [
    "\n",
    "\n",
    "✅ 보충 STEP 1: 조건 기반 분석 함수\n",
    "🎯 목표\n",
    "조건문 + 반복문을 조합하여 조건 필터링 함수 작성\n",
    "\n",
    "📝 실습 과제\n",
    "숫자 리스트에서 특정 범위(예: 50~80)에 해당하는 값만 반환\n",
    "\n"
   ]
  },
  {
   "cell_type": "code",
   "execution_count": 14,
   "id": "04938838",
   "metadata": {},
   "outputs": [
    {
     "name": "stdout",
     "output_type": "stream",
     "text": [
      "[77, 60, 67, 64, 66, 50, 72, 66, 65, 77, 53, 64, 63, 80, 61, 77, 58, 63, 51, 60, 63, 73, 79, 59, 63, 71, 77, 75, 78, 61, 51, 65, 60, 75]\n"
     ]
    }
   ],
   "source": [
    "import random\n",
    "\n",
    "numbers = [random.randint(1,100) for _ in range(100)]\n",
    "\n",
    "def in_range(numbers):\n",
    "    return [value for value in numbers if value >= 50 and value <= 80]\n",
    "\n",
    "print(in_range(numbers))"
   ]
  },
  {
   "cell_type": "markdown",
   "id": "93b39f13",
   "metadata": {},
   "source": [
    "\n",
    "\n",
    "리스트에서 가장 많이 등장하는 요소를 반환하는 함수 (빈도수 분석)\n"
   ]
  },
  {
   "cell_type": "code",
   "execution_count": 28,
   "id": "cc79c324",
   "metadata": {},
   "outputs": [
    {
     "name": "stdout",
     "output_type": "stream",
     "text": [
      "[63, 77]\n"
     ]
    }
   ],
   "source": [
    "def frequency(numbers):\n",
    "    lst = sorted(set(numbers))\n",
    "    maxed = max([numbers.count(value) for value in lst])\n",
    "    return [value for value in lst if numbers.count(value) == maxed]\n",
    "\n",
    "print(frequency(in_range(numbers)))"
   ]
  },
  {
   "cell_type": "markdown",
   "id": "e7388ca2",
   "metadata": {},
   "source": [
    "\n",
    "학생 점수 딕셔너리를 받아 '합격/불합격' 딕셔너리 반환 (기준 70점)\n",
    "\n",
    "\n",
    "✅ 보충 STEP 2: 실용 데이터 처리 함수 (ML 친화적)\n",
    "🎯 목표\n",
    "머신러닝에서 자주 쓰는 데이터 전처리용 함수 구조 익히기\n",
    "\n",
    "📝 실습 과제\n",
    "결측값(NaN 또는 None)이 있는 데이터를 필터링하는 함수\n",
    "\n",
    "문자열 리스트를 숫자로 바꾸는 매핑 함수 (['남', '여'] → [0,1])\n",
    "\n",
    "여러 개의 숫자 리스트를 받아 정규화된 리스트(0~1)로 반환\n"
   ]
  },
  {
   "cell_type": "code",
   "execution_count": 30,
   "id": "855cf6e4",
   "metadata": {},
   "outputs": [
    {
     "name": "stdout",
     "output_type": "stream",
     "text": [
      "[0.7604166666666666, 0.7083333333333334, 0.4895833333333333, 0.3958333333333333, 0.6666666666666666, 0.3020833333333333, 0.9791666666666666, 0.125, 0.7916666666666666, 0.3854166666666667, 0.3958333333333333, 0.5208333333333334, 0.09375, 0.03125, 0.010416666666666666, 0.8541666666666666, 0.2708333333333333, 0.6666666666666666, 0.14583333333333334, 0.46875, 0.7395833333333334, 0.4270833333333333, 0.28125, 0.8125, 0.6458333333333334, 0.28125, 0.8854166666666666, 0.010416666666666666, 0.020833333333333332, 0.7916666666666666, 0.5104166666666666, 0.7083333333333334, 0.28125, 0.041666666666666664, 0.020833333333333332, 0.3645833333333333, 0.13541666666666666, 0.6979166666666666, 0.6041666666666666, 0.6458333333333334, 0.40625, 0.84375, 0.0, 0.5104166666666666, 0.59375, 0.3229166666666667, 0.17708333333333334, 0.8229166666666666, 0.2604166666666667, 0.07291666666666667, 0.3020833333333333, 0.4895833333333333, 0.3854166666666667, 0.6041666666666666, 0.6979166666666666, 0.875, 0.8333333333333334, 0.5729166666666666, 0.23958333333333334, 0.3645833333333333, 1.0, 0.40625, 0.5833333333333334, 0.16666666666666666, 0.3020833333333333, 0.08333333333333333, 0.21875, 0.10416666666666667, 0.9375, 0.19791666666666666, 0.16666666666666666, 0.6979166666666666, 0.78125, 0.65625, 0.21875, 0.5104166666666666, 0.22916666666666666, 0.3958333333333333, 0.4166666666666667, 0.3020833333333333, 0.0625, 0.6875, 0.6145833333333334, 0.5625, 0.7604166666666666, 0.3333333333333333, 0.8541666666666666, 0.7083333333333334, 0.7395833333333334, 0.96875, 0.4166666666666667, 0.07291666666666667, 0.9270833333333334, 0.46875, 0.6770833333333334, 0.9791666666666666, 0.8854166666666666, 0.5104166666666666, 0.7916666666666666, 0.7291666666666666]\n"
     ]
    }
   ],
   "source": [
    "import random\n",
    "\n",
    "numbers = [random.randint(1,100) for _ in range(100)]\n",
    "\n",
    "def nallFillter(datas):\n",
    "    return [data for data in datas if data != 'Nan' and data !='None']\n",
    "\n",
    "def mapToint(datas):\n",
    "    return [0 if data == '남' else '1' for data in datas]\n",
    "\n",
    "def regula(numbers):\n",
    "    min_val = min(numbers)\n",
    "    max_val = max(numbers)\n",
    "    return [(number - min_val) / (max_val - min_val) for number in numbers]\n",
    "\n",
    "print(regula(numbers))"
   ]
  },
  {
   "cell_type": "markdown",
   "id": "29d740f1",
   "metadata": {},
   "source": [
    "\n",
    "\n",
    "✅ 보충 STEP 3: 분석 보고 함수\n",
    "🎯 목표\n",
    "데이터를 받아 요약 정보, 통계 결과, 시각화 등 리포트성 출력 생성\n",
    "\n",
    "📝 실습 과제\n",
    "숫자 리스트를 받아 최대, 최소, 평균, 중앙값, 표준편차를 반환하는 함수\n"
   ]
  },
  {
   "cell_type": "code",
   "execution_count": null,
   "id": "4077b5fe",
   "metadata": {},
   "outputs": [
    {
     "name": "stdout",
     "output_type": "stream",
     "text": [
      "(100, 1, 57.67, 60, 27.904619291038134)\n"
     ]
    }
   ],
   "source": [
    "import random\n",
    "import numpy\n",
    "numbers = [random.randint(1,100) for _ in range(100)]\n",
    "\n",
    "\n",
    "\n",
    "def values(numbers):\n",
    "    mid = int(len(numbers))/2\n",
    "    mid = sorted(numbers)[int(mid)]\n",
    "    max_num = max(numbers)\n",
    "    min_num = min(numbers)\n",
    "    avg = sum(numbers) / len(numbers)\n",
    "    deviation = numpy.sqrt(sum([(value - avg)**2 for value in numbers])/(len(numbers)-1))\n",
    "    return (max_num, min_num, avg,mid,deviation)\n",
    "\n",
    "print(values(numbers))\n",
    "\n"
   ]
  },
  {
   "cell_type": "markdown",
   "id": "dc32322f",
   "metadata": {},
   "source": [
    "dict 형태의 데이터에서 항목별 빈도수를 출력하는 함수"
   ]
  },
  {
   "cell_type": "markdown",
   "id": "7d633e76",
   "metadata": {},
   "source": [
    "\n",
    "주어진 범주형 데이터를 받아 막대그래프를 그리는 함수 (matplotlib 이용)\n"
   ]
  },
  {
   "cell_type": "code",
   "execution_count": 13,
   "id": "9997e3e4",
   "metadata": {},
   "outputs": [
    {
     "data": {
      "image/png": "[encoded data removed]",
      "text/plain": [
       "<Figure size 640x480 with 1 Axes>"
      ]
     },
     "metadata": {},
     "output_type": "display_data"
    }
   ],
   "source": [
    "import matplotlib.pyplot as plt\n",
    "\n",
    "x = [random.randint(1,100) for _ in range(10)]\n",
    "y = [random.randint(1,100) for _ in range(10)]\n",
    "\n",
    "plt.plot(x,y)\n",
    "\n",
    "plt.title(\"예제 그래프\")\n",
    "plt.xlabel(\"x축\")\n",
    "plt.ylabel(\"y축\")\n",
    "\n",
    "plt.show()"
   ]
  },
  {
   "cell_type": "markdown",
   "id": "432a244d",
   "metadata": {},
   "source": [
    "\n",
    "💎 보충 STEP 4: 실전형 함수 훈련\n",
    "🎯 문제:\n",
    "CSV에서 데이터를 읽고, 결측치를 제거하고, 정규화를 적용한 후, 평균 이상인 데이터만 필터링하는 일련의 과정을 함수 단위로 나누어 구현하세요.\n",
    "\n",
    "📘 확장 아이디어 (머신러닝 관련)\n",
    "🧠 머신러닝 함수 작성 실습 과제\n",
    "실습 목표: train_test_split, accuracy, one_hot_encode 직접 구현\n",
    "\n",
    "🔹 공통 소스 데이터\n",
    "다음은 간단한 학생 시험 결과 데이터입니다.\n",
    "\n",
    "data는 (이름, 점수, 레이블)로 구성된 리스트입니다.\n",
    "\n",
    "labels는 학생의 시험 합격 여부 (1: 합격, 0: 불합격)입니다.\n",
    "\n",
    "# 실습용 데이터\n",
    "data = [\n",
    "    (\"홍길동\", 85, 1),\n",
    "    (\"김유신\", 72, 1),\n",
    "    (\"이순신\", 60, 1),\n",
    "    (\"강감찬\", 45, 0),\n",
    "    (\"유관순\", 92, 1),\n",
    "    (\"안중근\", 55, 0),\n",
    "    (\"윤봉길\", 78, 1),\n",
    "    (\"신사임당\", 33, 0),\n",
    "    (\"장보고\", 67, 1),\n",
    "    (\"이황\", 49, 0)\n",
    "]\n",
    "\n",
    "# 레이블만 따로 분리 (예측 평가용)\n",
    "labels = [1, 1, 1, 0, 1, 0, 1, 0, 1, 0]\n",
    "\n",
    "✅ 실습 1: train_test_split(data, ratio=0.8) 직접 구현\n",
    "📌 문제 설명\n",
    "data 리스트를 무작위로 섞은 뒤, ratio에 따라 train/test로 분할하는 함수를 작성하세요.\n",
    "\n",
    "🎯 출력 예시\n",
    "\n",
    "train, test = train_test_split(data, ratio=0.8)\n",
    "print(\"Train set:\", train)\n",
    "print(\"Test set:\", test)\n",
    "\n",
    "💡 힌트\n",
    "random.shuffle()\n",
    "\n",
    "int(len(data) * ratio)로 슬라이싱\n",
    "\n"
   ]
  },
  {
   "cell_type": "code",
   "execution_count": 15,
   "id": "560182db",
   "metadata": {},
   "outputs": [
    {
     "name": "stdout",
     "output_type": "stream",
     "text": [
      "[('유관순', 92, 1), ('안중근', 55, 0), ('김유신', 72, 1), ('강감찬', 45, 0), ('장보고', 67, 1), ('윤봉길', 78, 1), ('신사임당', 33, 0), ('이황', 49, 0)]\n",
      "[('홍길동', 85, 1), ('이순신', 60, 1)]\n"
     ]
    }
   ],
   "source": [
    "data = [\n",
    "    (\"홍길동\", 85, 1),\n",
    "    (\"김유신\", 72, 1),\n",
    "    (\"이순신\", 60, 1),\n",
    "    (\"강감찬\", 45, 0),\n",
    "    (\"유관순\", 92, 1),\n",
    "    (\"안중근\", 55, 0),\n",
    "    (\"윤봉길\", 78, 1),\n",
    "    (\"신사임당\", 33, 0),\n",
    "    (\"장보고\", 67, 1),\n",
    "    (\"이황\", 49, 0)\n",
    "]\n",
    "\n",
    "def train_test_split(data, ratio=0.8):\n",
    "    random.shuffle(data)\n",
    "    return data[:int(len(data)*ratio)],data[int(len(data)*ratio):]\n",
    "\n",
    "train, test = train_test_split(data)\n",
    "print(train)\n",
    "print(test)"
   ]
  },
  {
   "cell_type": "markdown",
   "id": "1d096031",
   "metadata": {},
   "source": [
    "\n",
    "\n",
    "✅ 실습 2: accuracy(y_true, y_pred) 함수 구현\n",
    "📌 문제 설명\n",
    "실제 정답 y_true와 예측값 y_pred를 받아 **정확도(%)**를 계산하는 함수를 구현하세요.\n",
    "\n",
    "예시:\n",
    "\n",
    "y_true = [1, 0, 1, 1, 0]\n",
    "y_pred = [1, 0, 0, 1, 1]\n",
    "\n",
    "print(accuracy(y_true, y_pred))  # 출력: 60.0\n"
   ]
  },
  {
   "cell_type": "code",
   "execution_count": 19,
   "id": "9b14e133",
   "metadata": {},
   "outputs": [
    {
     "name": "stdout",
     "output_type": "stream",
     "text": [
      "0.6\n"
     ]
    }
   ],
   "source": [
    "y_true = [1, 0, 1, 1, 0]\n",
    "y_pred = [1, 0, 0, 1, 1]\n",
    "\n",
    "def accuracy(true,pred):\n",
    "    pre = [1 if y_t == y_p else 0 for y_t, y_p in zip(y_true,y_pred)]\n",
    "    return sum(pre)/len(pre)\n",
    "\n",
    "print(accuracy(y_true,y_pred))"
   ]
  },
  {
   "cell_type": "markdown",
   "id": "3e15dec6",
   "metadata": {},
   "source": [
    "\n",
    "💡 힌트\n",
    "zip()으로 비교\n",
    "\n",
    "(맞춘 개수 / 전체 개수) * 100\n",
    "\n",
    "✅ 실습 3: one_hot_encode(labels) 함수 구현\n",
    "📌 문제 설명\n",
    "주어진 labels 리스트를 원-핫 인코딩된 리스트로 변환하세요.\n",
    "\n",
    "예시:\n",
    "\n",
    "labels = [0, 1, 2, 0, 1]\n",
    "print(one_hot_encode(labels))\n",
    "\n",
    "# 출력: [[1,0,0], [0,1,0], [0,0,1], [1,0,0], [0,1,0]]\n",
    "\n",
    "💡 힌트\n",
    "max(labels) → 클래스 개수 확인\n",
    "\n",
    "[1 if i == label else 0 for i in range(n_classes)] 사용\n",
    "\n",
    "📦 실습 확장 아이디어\n",
    "train_test_split()에서 random_state 옵션 추가 구현해보기\n",
    "\n",
    "accuracy() 외에도 precision, recall, f1-score 도전\n",
    "\n",
    "one_hot_encode()를 딕셔너리 매핑으로도 변환 ({0: [1,0], 1: [0,1]})\n",
    "\n",
    "\n"
   ]
  }
 ],
 "metadata": {
  "kernelspec": {
   "display_name": "Python 3",
   "language": "python",
   "name": "python3"
  },
  "language_info": {
   "codemirror_mode": {
    "name": "ipython",
    "version": 3
   },
   "file_extension": ".py",
   "mimetype": "text/x-python",
   "name": "python",
   "nbconvert_exporter": "python",
   "pygments_lexer": "ipython3",
   "version": "3.11.8"
  }
 },
 "nbformat": 4,
 "nbformat_minor": 5
}
