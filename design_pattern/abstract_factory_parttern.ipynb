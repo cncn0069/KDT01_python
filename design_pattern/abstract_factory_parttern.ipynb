{
 "cells": [
  {
   "cell_type": "markdown",
   "id": "5d838164",
   "metadata": {},
   "source": [
    "![alt text](afp.PNG)"
   ]
  },
  {
   "cell_type": "code",
   "execution_count": 12,
   "id": "b23f15f2",
   "metadata": {},
   "outputs": [],
   "source": [
    "class Button:\n",
    "    def click(self):\n",
    "        pass\n",
    "\n",
    "class DarkButton(Button):\n",
    "    def click(self):\n",
    "        print(\"dark click\")\n",
    "\n",
    "class LightButton(Button):\n",
    "    def click(self):\n",
    "        print(\"light click\")"
   ]
  },
  {
   "cell_type": "code",
   "execution_count": 13,
   "id": "421b647f",
   "metadata": {},
   "outputs": [],
   "source": [
    "class CheckBox:\n",
    "    def check(self):\n",
    "        pass\n",
    "\n",
    "class DarkCheckBox(CheckBox):\n",
    "    def check(self):\n",
    "        print(\"dark check\")\n",
    "\n",
    "class LightCheckBox(CheckBox):\n",
    "    def check(self):\n",
    "        print(\"light check\")\n"
   ]
  },
  {
   "cell_type": "code",
   "execution_count": 14,
   "id": "87033207",
   "metadata": {},
   "outputs": [],
   "source": [
    "class ScrollBar:\n",
    "    def scroll(self):\n",
    "        pass\n",
    "\n",
    "class DarkScrollBar:\n",
    "    def scroll(self):\n",
    "        print(\"dark scroll\")\n",
    "\n",
    "class LightScrollBar:\n",
    "    def scroll(self):\n",
    "        print(\"light scroll\")"
   ]
  },
  {
   "cell_type": "code",
   "execution_count": 15,
   "id": "a6c11a38",
   "metadata": {},
   "outputs": [],
   "source": [
    "class UIFactory:\n",
    "    def getButton(self):\n",
    "        pass\n",
    "\n",
    "    def getCheckBox(self):\n",
    "        pass\n",
    "\n",
    "    def getScrollBar(self):\n",
    "        pass\n",
    "\n",
    "class DarkUIFactory(UIFactory):\n",
    "    def getButton(self):\n",
    "        return DarkButton()\n",
    "    \n",
    "    def getCheckBox(self):\n",
    "        return DarkCheckBox()\n",
    "\n",
    "    def getScrollBar(self):\n",
    "        return DarkScrollBar()\n",
    "    \n",
    "class LightUIFactory(UIFactory):\n",
    "    def getButton(self):\n",
    "        return LightButton()\n",
    "    \n",
    "    def getCheckBox(self):\n",
    "        return LightCheckBox()\n",
    "\n",
    "    def getScrollBar(self):\n",
    "        return LightScrollBar()\n",
    "    \n"
   ]
  },
  {
   "cell_type": "code",
   "execution_count": null,
   "id": "a40d310c",
   "metadata": {},
   "outputs": [
    {
     "name": "stdout",
     "output_type": "stream",
     "text": [
      "dark click\n",
      "dark scroll\n",
      "dark check\n"
     ]
    }
   ],
   "source": [
    "dark_factory = DarkUIFactory()\n",
    "dark_button = dark_factory.getButton()\n",
    "dark_scroll = dark_factory.getScrollBar()\n",
    "dark_checkbox = dark_factory.getCheckBox()\n",
    "\n",
    "dark_button.click()\n",
    "dark_scroll.scroll()\n",
    "dark_checkbox.check()"
   ]
  },
  {
   "cell_type": "code",
   "execution_count": 10,
   "id": "6fdece61",
   "metadata": {},
   "outputs": [
    {
     "name": "stdout",
     "output_type": "stream",
     "text": [
      "light click\n",
      "light scroll\n",
      "light check\n"
     ]
    }
   ],
   "source": [
    "light_factory = LightUIFactory()\n",
    "light_button = light_factory.getButton()\n",
    "light_scroll = light_factory.getScrollBar()\n",
    "light_checkbox = light_factory.getCheckBox()\n",
    "\n",
    "light_button.click()\n",
    "light_scroll.scroll()\n",
    "light_checkbox.check()"
   ]
  }
 ],
 "metadata": {
  "kernelspec": {
   "display_name": ".venv",
   "language": "python",
   "name": "python3"
  },
  "language_info": {
   "codemirror_mode": {
    "name": "ipython",
    "version": 3
   },
   "file_extension": ".py",
   "mimetype": "text/x-python",
   "name": "python",
   "nbconvert_exporter": "python",
   "pygments_lexer": "ipython3",
   "version": "3.9.13"
  }
 },
 "nbformat": 4,
 "nbformat_minor": 5
}
