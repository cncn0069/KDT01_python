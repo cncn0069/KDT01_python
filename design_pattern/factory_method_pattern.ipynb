{
 "cells": [
  {
   "cell_type": "code",
   "execution_count": 5,
   "id": "0c44f9b6",
   "metadata": {},
   "outputs": [
    {
     "name": "stdout",
     "output_type": "stream",
     "text": [
      "1\n",
      "dog wings added\n",
      "누렁이\n",
      "흰둥이\n"
     ]
    }
   ],
   "source": [
    "class Animal():\n",
    "    def speak(self):\n",
    "        pass\n",
    "\n",
    "class Cat(Animal):\n",
    "    def speak(self):\n",
    "        print(\"meow\")\n",
    "\n",
    "class Dog(Animal):\n",
    "    def __init__(self, name):\n",
    "        self.name = name\n",
    "    def speak(self):\n",
    "        print(\"bark\")\n",
    "    def sayName(self):\n",
    "        print(self.name)\n",
    "\n",
    "#핵심 객체를 만드는 메서드가 포함되어 있느냐..!가 핵심\n",
    "class AnimalFactory():\n",
    "    def createAnimal(self):\n",
    "        pass\n",
    "\n",
    "class CatFactory(AnimalFactory):\n",
    "    def __init__(self):\n",
    "        self.cat_count = 0\n",
    "\n",
    "    def createAnimal(self):\n",
    "        self.cat_count += 1\n",
    "        return Cat()\n",
    "    \n",
    "    def catCount(self):\n",
    "        return self.cat_count\n",
    "    \n",
    "class DogFactory(AnimalFactory):\n",
    "\n",
    "    def haveDog(self):\n",
    "        self.dog = self.createAnimal()\n",
    "    def createAnimal(self,name):\n",
    "        return Dog(name)\n",
    "    def makeWings(self,dog:Dog):\n",
    "        print(\"dog wings added\")\n",
    "        return dog\n",
    "    \n",
    "cat_factory = CatFactory()\n",
    "#핵심\n",
    "cat = cat_factory.createAnimal()\n",
    "print(cat_factory.catCount())\n",
    "\n",
    "dog_factory = DogFactory()\n",
    "#핵심\n",
    "dog = dog_factory.createAnimal('누렁이')\n",
    "dog = dog_factory.makeWings(dog)\n",
    "\n",
    "dog2 = dog_factory.createAnimal('흰둥이')\n",
    "\n",
    "dog.sayName()\n",
    "dog2.sayName()\n"
   ]
  },
  {
   "cell_type": "markdown",
   "id": "38bb8ef5",
   "metadata": {},
   "source": [
    "궁금한거 sayName을 만들어도 되나?\n",
    "강아지 객체가 가지는 이름...\n",
    "\n",
    "factory에서 만들어도 되나?\n",
    "객체를 만들어내는것이기 때문에 가능하지 않나?"
   ]
  },
  {
   "cell_type": "code",
   "execution_count": null,
   "id": "1c14b171",
   "metadata": {},
   "outputs": [],
   "source": []
  }
 ],
 "metadata": {
  "kernelspec": {
   "display_name": ".venv",
   "language": "python",
   "name": "python3"
  },
  "language_info": {
   "codemirror_mode": {
    "name": "ipython",
    "version": 3
   },
   "file_extension": ".py",
   "mimetype": "text/x-python",
   "name": "python",
   "nbconvert_exporter": "python",
   "pygments_lexer": "ipython3",
   "version": "3.9.13"
  }
 },
 "nbformat": 4,
 "nbformat_minor": 5
}
