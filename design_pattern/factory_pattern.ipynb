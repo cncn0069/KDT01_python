{
 "cells": [
  {
   "cell_type": "code",
   "execution_count": 9,
   "id": "1728d187",
   "metadata": {},
   "outputs": [
    {
     "name": "stdout",
     "output_type": "stream",
     "text": [
      "meow\n",
      "bark\n",
      "meow\n",
      "bark\n"
     ]
    }
   ],
   "source": [
    "class Animal():\n",
    "    def speak(self):\n",
    "        pass\n",
    "\n",
    "class Cat(Animal):\n",
    "    def speak(self):\n",
    "        print(\"meow\")\n",
    "\n",
    "class Dog(Animal):\n",
    "    def speak(self):\n",
    "        print(\"bark\")\n",
    "\n",
    "#클래스형\n",
    "class AnimalFactory():\n",
    "    def createAnimal(self,animal:str) -> Animal:\n",
    "        if animal == 'cat':\n",
    "            return Cat()\n",
    "        elif animal == 'Dog':\n",
    "            return Dog()\n",
    "\n",
    "#함수형\n",
    "\n",
    "def FatroyFn(animal:str) -> Animal:\n",
    "    if animal == 'cat':\n",
    "        return Cat()\n",
    "    elif animal == 'Dog':\n",
    "        return Dog()\n",
    "    \n",
    "\n",
    "\n",
    "cat = FatroyFn('cat')\n",
    "dog = FatroyFn('Dog')\n",
    "\n",
    "af = AnimalFactory()\n",
    "\n",
    "cat2 = af.createAnimal('cat')\n",
    "dog2 = af.createAnimal('Dog')\n",
    "\n",
    "cat.speak()\n",
    "dog.speak()\n",
    "\n",
    "cat2.speak()\n",
    "dog2.speak()"
   ]
  }
 ],
 "metadata": {
  "kernelspec": {
   "display_name": ".venv",
   "language": "python",
   "name": "python3"
  },
  "language_info": {
   "codemirror_mode": {
    "name": "ipython",
    "version": 3
   },
   "file_extension": ".py",
   "mimetype": "text/x-python",
   "name": "python",
   "nbconvert_exporter": "python",
   "pygments_lexer": "ipython3",
   "version": "3.9.13"
  }
 },
 "nbformat": 4,
 "nbformat_minor": 5
}
