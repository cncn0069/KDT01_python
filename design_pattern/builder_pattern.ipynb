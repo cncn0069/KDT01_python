{
 "cells": [
  {
   "cell_type": "code",
   "execution_count": 8,
   "id": "5266e97c",
   "metadata": {},
   "outputs": [],
   "source": [
    "class Cat:\n",
    "    def __init__(self,height,weight,color):\n",
    "        self.height = height\n",
    "        self.weight = weight\n",
    "        self.color = color\n",
    "\n",
    "    def print(self):\n",
    "        return print(f\"{self.height}cm, {self.weight}kg, {self.color}\")\n",
    "\n",
    "class CatBuilder:\n",
    "    def __init__(self):\n",
    "        self.height = None\n",
    "        self.weight = None\n",
    "        self.color = None\n",
    "\n",
    "    def setHeight(self,height):\n",
    "        self.height = height\n",
    "        return self\n",
    "\n",
    "    def setWeight(self,weight):\n",
    "        self.weight = weight\n",
    "        return self\n",
    "\n",
    "    def setColor(self,color):\n",
    "        self.color = color\n",
    "        return self\n",
    "\n",
    "    def build(self):\n",
    "        return Cat(self.height,self.weight,self.color)\n",
    "    \n",
    "class WhiteCatBuilder(CatBuilder):\n",
    "    def __init__(self):\n",
    "        super().__init__()\n",
    "        self.color = 'white'\n",
    "\n",
    "class BlackCatBuilder(CatBuilder):\n",
    "    def __init__(self):\n",
    "        super().__init__()\n",
    "        self.color = 'black'\n",
    "\n",
    "class Director:\n",
    "    def setSmallCat(self, builder:CatBuilder):\n",
    "        builder.setWeight(5)\n",
    "        builder.setHeight(5)\n",
    "\n",
    "    def setBigCat(self, builder:CatBuilder):\n",
    "        builder.setWeight(100)\n",
    "        builder.setHeight(100)\n"
   ]
  },
  {
   "cell_type": "code",
   "execution_count": 10,
   "id": "113c6546",
   "metadata": {},
   "outputs": [
    {
     "name": "stdout",
     "output_type": "stream",
     "text": [
      "30cm, 10kg, black\n",
      "20cm, 10kg, black\n",
      "20cm, 10kg, white\n",
      "15cm, 5kg, black\n",
      "5cm, 5kg, black\n",
      "100cm, 100kg, white\n"
     ]
    }
   ],
   "source": [
    "\n",
    "cat = Cat(30,10,'black')\n",
    "cat.print()\n",
    "#builder\n",
    "cat_builder = CatBuilder()\n",
    "cat_builder.setColor('black')\n",
    "cat_builder.setHeight(20)\n",
    "cat_builder.setWeight(10)\n",
    "cat = cat_builder.build()\n",
    "\n",
    "cat.print()\n",
    "\n",
    "#builder and concreatebuilder\n",
    "white_cat = WhiteCatBuilder().setHeight(20).setWeight(10).build()\n",
    "black_cat = BlackCatBuilder().setHeight(15).setWeight(5).build();\n",
    "\n",
    "white_cat.print()\n",
    "black_cat.print()\n",
    "\n",
    "#director\n",
    "director = Director()\n",
    "cat_builder = BlackCatBuilder()\n",
    "director.setSmallCat(cat_builder)\n",
    "cat = cat_builder.build()\n",
    "\n",
    "cat.print()\n",
    "\n",
    "director = Director()\n",
    "cat_builder = WhiteCatBuilder()\n",
    "director.setBigCat(cat_builder)\n",
    "cat = cat_builder.build()\n",
    "\n",
    "cat.print()\n"
   ]
  }
 ],
 "metadata": {
  "kernelspec": {
   "display_name": ".venv",
   "language": "python",
   "name": "python3"
  },
  "language_info": {
   "codemirror_mode": {
    "name": "ipython",
    "version": 3
   },
   "file_extension": ".py",
   "mimetype": "text/x-python",
   "name": "python",
   "nbconvert_exporter": "python",
   "pygments_lexer": "ipython3",
   "version": "3.9.13"
  }
 },
 "nbformat": 4,
 "nbformat_minor": 5
}
