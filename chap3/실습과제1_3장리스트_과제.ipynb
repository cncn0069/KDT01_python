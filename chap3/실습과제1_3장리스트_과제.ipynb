{
 "cells": [
  {
   "cell_type": "code",
   "execution_count": null,
   "metadata": {},
   "outputs": [
    {
     "ename": "TypeError",
     "evalue": "insert expected 2 arguments, got 1",
     "output_type": "error",
     "traceback": [
      "\u001b[1;31m---------------------------------------------------------------------------\u001b[0m",
      "\u001b[1;31mTypeError\u001b[0m                                 Traceback (most recent call last)",
      "Cell \u001b[1;32mIn[1], line 6\u001b[0m\n\u001b[0;32m      3\u001b[0m cars \u001b[38;5;241m=\u001b[39m []\n\u001b[0;32m      5\u001b[0m \u001b[38;5;66;03m# 자동차 리스트에 자동차 이름 추가 (append, insert 사용)\u001b[39;00m\n\u001b[1;32m----> 6\u001b[0m \u001b[43mcars\u001b[49m\u001b[38;5;241;43m.\u001b[39;49m\u001b[43minsert\u001b[49m\u001b[43m(\u001b[49m\u001b[38;5;124;43m'\u001b[39;49m\u001b[38;5;124;43mavante\u001b[39;49m\u001b[38;5;124;43m'\u001b[39;49m\u001b[43m)\u001b[49m\n\u001b[0;32m      7\u001b[0m cars\u001b[38;5;241m.\u001b[39minsert(\u001b[38;5;124m'\u001b[39m\u001b[38;5;124mk5\u001b[39m\u001b[38;5;124m'\u001b[39m)\n\u001b[0;32m      8\u001b[0m \u001b[38;5;66;03m# 세 번째 위치에 삽입\u001b[39;00m\n",
      "\u001b[1;31mTypeError\u001b[0m: insert expected 2 arguments, got 1"
     ]
    }
   ],
   "source": [
    "# 실습과제1_3,4장_리스트\n",
    "# 빈 cars 리스트 생성\n",
    "cars = []\n",
    "\n",
    "# 자동차 리스트에 자동차 이름 추가 (append, insert 사용)\n",
    "cars.append('avante')\n",
    "cars.append('k5')\n",
    "# 세 번째 위치에 삽입\n",
    "cars.insert(3,'k3')\n",
    "\n",
    "# f-문자열과 리스트 인덱스를 사용하여 첫 번째와 마지막 요소 출력\n",
    "print(f\"{cars[0]} {cars[-1]}\")\n",
    "\n",
    "# 정렬하기 전의 리스트 출력\n",
    "print(f\"\\n정렬 전 자동차 리스트: {cars}\")\n",
    "\n",
    "# 리스트 정렬\n",
    "cars.sort();\n",
    "\n",
    "# 정렬 후의 리스트 출력\n",
    "print(f\"\\n정렬 후 자동차 리스트: {cars}\")\n",
    "\n",
    "\n",
    "# 정렬된 리스트를 for loop로 각 행에 하나씩 출력\n",
    "car = \"\"\n",
    "\n",
    "print(\"정렬된 자동차 리스트:\")\n",
    "for car in cars:\n",
    "    print(car)"
   ]
  }
 ],
 "metadata": {
  "kernelspec": {
   "display_name": ".venv",
   "language": "python",
   "name": "python3"
  },
  "language_info": {
   "codemirror_mode": {
    "name": "ipython",
    "version": 3
   },
   "file_extension": ".py",
   "mimetype": "text/x-python",
   "name": "python",
   "nbconvert_exporter": "python",
   "pygments_lexer": "ipython3",
   "version": "3.9.13"
  }
 },
 "nbformat": 4,
 "nbformat_minor": 2
}
