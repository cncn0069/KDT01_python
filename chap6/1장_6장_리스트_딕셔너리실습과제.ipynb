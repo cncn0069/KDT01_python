{
 "cells": [
  {
   "cell_type": "markdown",
   "id": "e4abd01c",
   "metadata": {},
   "source": [
    "머신러닝/딥러닝을 배우기 전에 꼭 익혀야 할 파이썬 리스트 컴프리헨션 실력을 키우기 위한 단계별 실습 과제\n",
    "\n",
    "- 리스트 컴프리헨션\n",
    "- if 조건 필터링\n",
    "- enumerate()와 함께 사용\n",
    "- zip()과 함께 사용\n",
    "- 슬라이싱을 활용한 간결한 코드 작성\n",
    "---\n",
    "\n",
    "🧠 파이썬 머신러닝 입문자를 위한 간결한 코딩 실습 과제\n",
    "\n",
    "리스트, 튜플, 딕셔너리, enumerate(), zip() + List Comprehension + 조건 + 슬라이싱\n",
    "\n",
    "\n",
    "📘 STEP 1: 리스트 + 리스트 컴프리헨션 기본\n",
    "\n",
    "\n",
    "실습 과제:\n",
    "\n",
    "1. 아래의 점수 리스트에서 60점 이상만 추출하는 코드를 리스트 comprehension 작성.\n",
    "2. 짝수 인덱스에 해당하는 점수만 출력 (슬라이싱 사용).\n",
    "3. 점수 리스트에서 **70점 이상이면 '합격', 아니면 '불합격'**으로 변환된 결과 리스트.\n",
    "\n",
    "\n",
    "\n"
   ]
  },
  {
   "cell_type": "code",
   "execution_count": 5,
   "id": "25ed5bb5",
   "metadata": {},
   "outputs": [
    {
     "name": "stdout",
     "output_type": "stream",
     "text": [
      "[89, 76, 90, 66, 72]\n",
      "[76, 90, 66, 72]\n",
      "['불합격', '합격', '합격', '불합격', '합격', '불합격', '합격']\n"
     ]
    }
   ],
   "source": [
    "scores = [55, 89, 76, 45, 90, 66, 72]\n",
    "#1\n",
    "print([value for value in scores if value > 60])\n",
    "#2\n",
    "print([value for value in scores if value % 2 == 0])\n",
    "#3\n",
    "print([\"합격\" if value>=70 else \"불합격\" for value in scores])"
   ]
  },
  {
   "cell_type": "markdown",
   "id": "b170f1a1",
   "metadata": {},
   "source": [
    "\n",
    "📘 STEP 2: 튜플 + 리스트 컴프리헨션\n",
    "\n",
    "\n",
    "실습 과제:\n",
    "\n",
    "1. (이름, 점수) 튜플이 있는 리스트에서 80점 이상인 학생 이름만 출력.\n",
    "2. **점수가 60점 미만인 학생 이름만 '재시험 대상자'**로 출력하는 리스트.\n",
    "\n"
   ]
  },
  {
   "cell_type": "code",
   "execution_count": null,
   "id": "29f50a14",
   "metadata": {},
   "outputs": [
    {
     "name": "stdout",
     "output_type": "stream",
     "text": [
      "[['홍길동', 85], ['유관순', 92]]\n"
     ]
    }
   ],
   "source": [
    "\n",
    "students = [(\"홍길동\", 85), (\"김유신\", 58), (\"이순신\", 76), (\"강감찬\", 45), (\"유관순\", 92)]\n",
    "\n",
    "\n",
    "\n",
    "#1\n",
    "st = []\n",
    "\n",
    "for student in students:\n",
    "    temp = [key for key in student]\n",
    "    if(temp[1] >= 80):\n",
    "        st.append(temp)\n",
    "\n",
    "#st = [list(student) for student in students if list(student)[1] >= 80]\n",
    "\n",
    "print(st)"
   ]
  },
  {
   "cell_type": "markdown",
   "id": "ec14df5c",
   "metadata": {},
   "source": [
    "\n",
    "\n",
    "📘 STEP 3: 딕셔너리 + 리스트 컴프리헨션\n",
    "\n",
    "\n",
    "실습 과제:\n",
    "\n",
    "1. 아래 딕셔너리에서 점수가 70점 이상인 학생 이름 리스트.\n",
    "2. 점수가 가장 높은 학생의 이름과 점수를 출력. (힌트: max() 사용)\n",
    "\n",
    "score_dict = {\n",
    "    \"홍길동\": 85,\n",
    "    \"김유신\": 58,\n",
    "    \"이순신\": 76,\n",
    "    \"강감찬\": 45,\n",
    "    \"유관순\": 92\n",
    "}\n"
   ]
  },
  {
   "cell_type": "code",
   "execution_count": 38,
   "id": "64e2652f",
   "metadata": {},
   "outputs": [],
   "source": [
    "score_dict = {\n",
    "    \"홍길동\": 85,\n",
    "    \"김유신\": 58,\n",
    "    \"이순신\": 76,\n",
    "    \"강감찬\": 45,\n",
    "    \"유관순\": 92\n",
    "}"
   ]
  },
  {
   "cell_type": "code",
   "execution_count": 43,
   "id": "63d36c76",
   "metadata": {},
   "outputs": [
    {
     "name": "stdout",
     "output_type": "stream",
     "text": [
      "92\n"
     ]
    }
   ],
   "source": [
    "print(max([value for value in score_dict.values()]))"
   ]
  },
  {
   "cell_type": "markdown",
   "id": "ee8d081c",
   "metadata": {},
   "source": [
    "\n",
    "\n",
    "📘 STEP 4: enumerate() + 리스트 컴프리헨션\n",
    "\n",
    "\n",
    "실습 과제:\n",
    "\n",
    "1. 번호와 이름을 같이 출력하는 문자열 리스트. (예: \"1. 홍길동\")\n",
    "2. 짝수 번호(1번, 3번...) 학생만 필터링해서 출력.\n",
    "\n",
    "names = [\"홍길동\", \"김유신\", \"이순신\", \"강감찬\", \"유관순\"]\n",
    "\n",
    "\n",
    "# 예시 결과:\n",
    "# ['1. 홍길동', '3. 이순신', '5. 유관순']\n",
    "\n"
   ]
  },
  {
   "cell_type": "code",
   "execution_count": null,
   "id": "3d25c977",
   "metadata": {},
   "outputs": [
    {
     "name": "stdout",
     "output_type": "stream",
     "text": [
      "['1. 홍길동', '2. 김유신', '3. 이순신', '4. 강감찬', '5. 유관순']\n",
      "['1. 홍길동', '3. 이순신', '5. 유관순']\n"
     ]
    }
   ],
   "source": [
    "names = [\"홍길동\", \"김유신\", \"이순신\", \"강감찬\", \"유관순\"]\n",
    "print([str(index + 1)+ '. ' + name for index, name in enumerate(names)])\n",
    "\n",
    "print([str(index + 1)+ '. ' + name for index, name in enumerate(names) if (index)%2 == 0]) "
   ]
  },
  {
   "cell_type": "markdown",
   "id": "8a8f7e4e",
   "metadata": {},
   "source": [
    "\n",
    "\n",
    "📘 STEP 5: zip() + 리스트 컴프리헨션\n",
    "\n",
    "\n",
    "실습 과제:\n",
    "\n",
    "1. 이름과 점수를 묶어서 \"이름: 점수점\" 형식의 리스트.\n",
    "2. 점수가 80점 이상인 경우에만 \"이름: 합격\" 문자열 리스트.\n"
   ]
  },
  {
   "cell_type": "code",
   "execution_count": null,
   "id": "0f46b71d",
   "metadata": {},
   "outputs": [
    {
     "name": "stdout",
     "output_type": "stream",
     "text": [
      "{'홍길동': 85, '김유신': 58, '이순신': 76, '강감찬': 45, '유관순': 92}\n"
     ]
    }
   ],
   "source": [
    "\n",
    "names = [\"홍길동\", \"김유신\", \"이순신\", \"강감찬\", \"유관순\"]\n",
    "scores = [85, 58, 76, 45, 92]\n",
    "#딕셔너리라 {로 바꿔줬어야함... [ 씀... \n",
    "print({name : score for name, score in zip(names,scores)})\n",
    "\n",
    "\n"
   ]
  },
  {
   "cell_type": "code",
   "execution_count": null,
   "id": "d7d961b7",
   "metadata": {},
   "outputs": [],
   "source": []
  },
  {
   "cell_type": "markdown",
   "id": "c8751f2d",
   "metadata": {},
   "source": [
    "\n",
    "💡 보너스 프로젝트: 한 줄 코딩 연습\n",
    "\n",
    "\n",
    "실습 과제:\n",
    "\n",
    "- zip(), enumerate(), 조건, 슬라이싱을 모두 활용해서 **홀수 번호 학생 중 점수가 80점 이상이면 '합격' 아니면 '불합격'**으로 출력하는 문자열 리스트.\n",
    "\n",
    "# 예시 출력:\n",
    "# ['1. 홍길동 - 합격', '3. 이순신 - 불합격', '5. 유관순 - 합격']\n",
    "\n"
   ]
  },
  {
   "cell_type": "code",
   "execution_count": 63,
   "id": "70c28b37",
   "metadata": {},
   "outputs": [
    {
     "name": "stdout",
     "output_type": "stream",
     "text": [
      "['1. 홍길동 - 합격', '3. 이순신 - 합격', '5. 유관순 - 합격']\n"
     ]
    }
   ],
   "source": [
    "\n",
    "names = [\"홍길동\", \"김유신\", \"이순신\", \"강감찬\", \"유관순\"]\n",
    "scores = [85, 58, 76, 45, 92]\n",
    "\n",
    "print([str(value + 1) + \". \" + zipdata[0] + \" - 합격\" if zipdata[1] >=0 else str(value + 1)+ \". \" + zipdata[0] + \" - 불합격\" for value, zipdata in enumerate(zip(names, scores)) if value % 2 == 0])"
   ]
  },
  {
   "cell_type": "code",
   "execution_count": 67,
   "id": "3e030e31",
   "metadata": {},
   "outputs": [
    {
     "name": "stdout",
     "output_type": "stream",
     "text": [
      "97\n"
     ]
    }
   ],
   "source": [
    "\n",
    "str1 = memoryview(b'abcd')\n",
    "print(str1[0])"
   ]
  }
 ],
 "metadata": {
  "kernelspec": {
   "display_name": ".venv",
   "language": "python",
   "name": "python3"
  },
  "language_info": {
   "codemirror_mode": {
    "name": "ipython",
    "version": 3
   },
   "file_extension": ".py",
   "mimetype": "text/x-python",
   "name": "python",
   "nbconvert_exporter": "python",
   "pygments_lexer": "ipython3",
   "version": "3.9.13"
  }
 },
 "nbformat": 4,
 "nbformat_minor": 5
}
